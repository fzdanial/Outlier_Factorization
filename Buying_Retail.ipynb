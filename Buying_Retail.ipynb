{
 "cells": [
  {
   "cell_type": "markdown",
   "metadata": {},
   "source": [
    "For some reason, the below package, doesnt appear in this, so for the first time run, need to install it"
   ]
  },
  {
   "cell_type": "code",
   "execution_count": 1,
   "metadata": {},
   "outputs": [],
   "source": [
    "# Install a pip package in the current Jupyter kernel\n",
    "#import sys\n",
    "#!{sys.executable} -m pip install pyod"
   ]
  },
  {
   "cell_type": "code",
   "execution_count": 2,
   "metadata": {},
   "outputs": [],
   "source": [
    "# Install a pip package in the current Jupyter kernel\n",
    "#import sys\n",
    "#!{sys.executable} -m pip install plotly"
   ]
  },
  {
   "cell_type": "code",
   "execution_count": 3,
   "metadata": {},
   "outputs": [],
   "source": [
    "import numpy as np\n",
    "import pandas as pd\n",
    "import seaborn as sns\n",
    "import matplotlib.pyplot as plt\n",
    "%matplotlib inline\n",
    "\n",
    "from numpy import percentile\n",
    "\n",
    "import warnings\n",
    "warnings.filterwarnings(\"ignore\")\n",
    "\n",
    "import matplotlib\n",
    "\n",
    "from sklearn.ensemble import IsolationForest\n",
    "from pyod.models.abod import ABOD\n",
    "from pyod.models.cblof import CBLOF\n",
    "#from pyod.models.feature_bagging import FeatureBagging\n",
    "from pyod.models.hbos import HBOS\n",
    "from pyod.models.iforest import IForest\n",
    "from pyod.models.knn import KNN\n",
    "from pyod.models.lof import LOF\n",
    "from scipy import stats\n",
    "from sklearn.preprocessing import MinMaxScaler\n",
    "\n",
    "from scipy.cluster.vq import kmeans\n",
    "from scipy.cluster.vq import vq\n",
    "\n",
    "import plotly.express as px"
   ]
  },
  {
   "cell_type": "markdown",
   "metadata": {},
   "source": [
    "### Loading the data"
   ]
  },
  {
   "cell_type": "code",
   "execution_count": 4,
   "metadata": {},
   "outputs": [],
   "source": [
    "df = pd.read_csv('ReportA_buyingretail.csv')\n",
    "\n",
    "#df.head()"
   ]
  },
  {
   "cell_type": "code",
   "execution_count": 5,
   "metadata": {},
   "outputs": [
    {
     "name": "stdout",
     "output_type": "stream",
     "text": [
      "<class 'pandas.core.frame.DataFrame'>\n",
      "RangeIndex: 5106 entries, 0 to 5105\n",
      "Data columns (total 15 columns):\n",
      "date                5106 non-null datetime64[ns]\n",
      "old_mcm             5106 non-null object\n",
      "new_mcm             5106 non-null object\n",
      "new_outletid        5106 non-null object\n",
      "accountid           5106 non-null object\n",
      "old_outletid        5106 non-null int64\n",
      "merchantname        5106 non-null object\n",
      "datecreated         5106 non-null datetime64[ns]\n",
      "merchantcategory    5106 non-null object\n",
      "businesscategory    5106 non-null object\n",
      "city                5106 non-null object\n",
      "state               5106 non-null object\n",
      "lwusercnt           5106 non-null int64\n",
      "lwgtv               5106 non-null float64\n",
      "gtv_user            5106 non-null float64\n",
      "dtypes: datetime64[ns](2), float64(2), int64(2), object(9)\n",
      "memory usage: 598.5+ KB\n"
     ]
    }
   ],
   "source": [
    "df['date'] = pd.to_datetime(df['date'])\n",
    "\n",
    "df['datecreated'] = pd.to_datetime(df['date'])\n",
    "\n",
    "df.info()"
   ]
  },
  {
   "cell_type": "code",
   "execution_count": 6,
   "metadata": {},
   "outputs": [
    {
     "data": {
      "text/plain": [
       "array(['Individual Merchant'], dtype=object)"
      ]
     },
     "execution_count": 6,
     "metadata": {},
     "output_type": "execute_result"
    }
   ],
   "source": [
    "df['merchantcategory'].unique()"
   ]
  },
  {
   "cell_type": "code",
   "execution_count": 7,
   "metadata": {},
   "outputs": [
    {
     "data": {
      "text/html": [
       "<div>\n",
       "<style scoped>\n",
       "    .dataframe tbody tr th:only-of-type {\n",
       "        vertical-align: middle;\n",
       "    }\n",
       "\n",
       "    .dataframe tbody tr th {\n",
       "        vertical-align: top;\n",
       "    }\n",
       "\n",
       "    .dataframe thead th {\n",
       "        text-align: right;\n",
       "    }\n",
       "</style>\n",
       "<table border=\"1\" class=\"dataframe\">\n",
       "  <thead>\n",
       "    <tr style=\"text-align: right;\">\n",
       "      <th></th>\n",
       "      <th>old_outletid</th>\n",
       "      <th>lwusercnt</th>\n",
       "      <th>lwgtv</th>\n",
       "      <th>gtv_user</th>\n",
       "    </tr>\n",
       "  </thead>\n",
       "  <tbody>\n",
       "    <tr>\n",
       "      <td>count</td>\n",
       "      <td>5106.000000</td>\n",
       "      <td>5106.000000</td>\n",
       "      <td>5106.000000</td>\n",
       "      <td>5106.000000</td>\n",
       "    </tr>\n",
       "    <tr>\n",
       "      <td>mean</td>\n",
       "      <td>96082.201136</td>\n",
       "      <td>2.501958</td>\n",
       "      <td>232.238829</td>\n",
       "      <td>84.067869</td>\n",
       "    </tr>\n",
       "    <tr>\n",
       "      <td>std</td>\n",
       "      <td>38320.597885</td>\n",
       "      <td>2.174398</td>\n",
       "      <td>582.306148</td>\n",
       "      <td>224.346205</td>\n",
       "    </tr>\n",
       "    <tr>\n",
       "      <td>min</td>\n",
       "      <td>3512.000000</td>\n",
       "      <td>1.000000</td>\n",
       "      <td>0.010000</td>\n",
       "      <td>0.010000</td>\n",
       "    </tr>\n",
       "    <tr>\n",
       "      <td>25%</td>\n",
       "      <td>70790.000000</td>\n",
       "      <td>1.000000</td>\n",
       "      <td>23.000000</td>\n",
       "      <td>12.192500</td>\n",
       "    </tr>\n",
       "    <tr>\n",
       "      <td>50%</td>\n",
       "      <td>104329.000000</td>\n",
       "      <td>2.000000</td>\n",
       "      <td>64.700000</td>\n",
       "      <td>26.945000</td>\n",
       "    </tr>\n",
       "    <tr>\n",
       "      <td>75%</td>\n",
       "      <td>127805.000000</td>\n",
       "      <td>3.000000</td>\n",
       "      <td>187.000000</td>\n",
       "      <td>65.000000</td>\n",
       "    </tr>\n",
       "    <tr>\n",
       "      <td>max</td>\n",
       "      <td>145955.000000</td>\n",
       "      <td>10.000000</td>\n",
       "      <td>9805.000000</td>\n",
       "      <td>4830.000000</td>\n",
       "    </tr>\n",
       "  </tbody>\n",
       "</table>\n",
       "</div>"
      ],
      "text/plain": [
       "        old_outletid    lwusercnt        lwgtv     gtv_user\n",
       "count    5106.000000  5106.000000  5106.000000  5106.000000\n",
       "mean    96082.201136     2.501958   232.238829    84.067869\n",
       "std     38320.597885     2.174398   582.306148   224.346205\n",
       "min      3512.000000     1.000000     0.010000     0.010000\n",
       "25%     70790.000000     1.000000    23.000000    12.192500\n",
       "50%    104329.000000     2.000000    64.700000    26.945000\n",
       "75%    127805.000000     3.000000   187.000000    65.000000\n",
       "max    145955.000000    10.000000  9805.000000  4830.000000"
      ]
     },
     "execution_count": 7,
     "metadata": {},
     "output_type": "execute_result"
    }
   ],
   "source": [
    "df.describe()"
   ]
  },
  {
   "cell_type": "code",
   "execution_count": 8,
   "metadata": {},
   "outputs": [
    {
     "data": {
      "text/plain": [
       "(5106, 15)"
      ]
     },
     "execution_count": 8,
     "metadata": {},
     "output_type": "execute_result"
    }
   ],
   "source": [
    "df.shape"
   ]
  },
  {
   "cell_type": "markdown",
   "metadata": {},
   "source": [
    "## Exploring the data\n",
    "\n",
    "### gtv/user"
   ]
  },
  {
   "cell_type": "code",
   "execution_count": 9,
   "metadata": {},
   "outputs": [
    {
     "data": {
      "image/png": "[encoded data removed]",
      "text/plain": [
       "<Figure size 432x288 with 1 Axes>"
      ]
     },
     "metadata": {
      "needs_background": "light"
     },
     "output_type": "display_data"
    },
    {
     "data": {
      "image/png": "[encoded data removed]",
      "text/plain": [
       "<Figure size 432x288 with 1 Axes>"
      ]
     },
     "metadata": {
      "needs_background": "light"
     },
     "output_type": "display_data"
    },
    {
     "name": "stdout",
     "output_type": "stream",
     "text": [
      "Skewness: 9.881472\n",
      "Kurtosis: 152.799210\n"
     ]
    }
   ],
   "source": [
    "#exploring the gtv_user\n",
    "plt.scatter(range(df.shape[0]), np.sort(df['gtv_user'].values))\n",
    "plt.xlabel('index')\n",
    "plt.ylabel('GTV/User')\n",
    "plt.title(\"GTV per User distribution\")\n",
    "sns.despine()\n",
    "plt.show()\n",
    "\n",
    "sns.distplot(df['gtv_user'])\n",
    "plt.title('Distribution of GTV/User')\n",
    "sns.despine()\n",
    "plt.show()\n",
    "\n",
    "print(\"Skewness: %f\" % df['gtv_user'].skew())\n",
    "print(\"Kurtosis: %f\" % df['gtv_user'].kurt())"
   ]
  },
  {
   "cell_type": "markdown",
   "metadata": {},
   "source": [
    "**Notes**\n",
    "\n",
    "Kurtosis looks at the tailedness of the probability\n",
    "\n",
    "$$\n",
    "Kurt[X] = E\\bigg{[}\\bigg{(}\\frac{X-\\mu}{\\sigma}\\bigg{)}^4\\bigg{]} = \\frac{E\\big{[}(X-\\mu)^4 \\big{]}}{\\big{(} E [ (X-\\mu)^2]\\big{)}^2} = \\frac{\\mu_4}{\\sigma^4}\n",
    "$$\n",
    "\n",
    "\n",
    "Skewness is a measure of symmetry\n",
    "$$\n",
    "\\tilde{\\mu_3} = \\frac{\\sum_{i}^{N} (X_i - \\bar{X})^3}{(N-1)*\\sigma^3}\n",
    "$$"
   ]
  },
  {
   "cell_type": "markdown",
   "metadata": {},
   "source": [
    "### LWGTV\n"
   ]
  },
  {
   "cell_type": "code",
   "execution_count": 10,
   "metadata": {},
   "outputs": [
    {
     "data": {
      "image/png": "[encoded data removed]",
      "text/plain": [
       "<Figure size 432x288 with 1 Axes>"
      ]
     },
     "metadata": {
      "needs_background": "light"
     },
     "output_type": "display_data"
    },
    {
     "data": {
      "image/png": "[encoded data removed]",
      "text/plain": [
       "<Figure size 432x288 with 1 Axes>"
      ]
     },
     "metadata": {
      "needs_background": "light"
     },
     "output_type": "display_data"
    },
    {
     "name": "stdout",
     "output_type": "stream",
     "text": [
      "Skewness: 6.561408\n",
      "Kurtosis: 60.496857\n"
     ]
    }
   ],
   "source": [
    "#exploring the lw_gtv\n",
    "plt.scatter(range(df.shape[0]), np.sort(df['lwgtv'].values))\n",
    "plt.xlabel('index')\n",
    "plt.ylabel('Weekly GTV')\n",
    "plt.title(\"Weekly GTV distribution\")\n",
    "sns.despine()\n",
    "plt.show()\n",
    "\n",
    "sns.distplot(df['lwgtv'])\n",
    "plt.title('Distribution of weekly gtv')\n",
    "sns.despine()\n",
    "plt.show()\n",
    "\n",
    "print(\"Skewness: %f\" % df['lwgtv'].skew())\n",
    "print(\"Kurtosis: %f\" % df['lwgtv'].kurt())"
   ]
  },
  {
   "cell_type": "markdown",
   "metadata": {},
   "source": [
    "### User count"
   ]
  },
  {
   "cell_type": "code",
   "execution_count": 11,
   "metadata": {},
   "outputs": [
    {
     "data": {
      "image/png": "[encoded data removed]",
      "text/plain": [
       "<Figure size 432x288 with 1 Axes>"
      ]
     },
     "metadata": {
      "needs_background": "light"
     },
     "output_type": "display_data"
    },
    {
     "data": {
      "image/png": "[encoded data removed]",
      "text/plain": [
       "<Figure size 432x288 with 1 Axes>"
      ]
     },
     "metadata": {
      "needs_background": "light"
     },
     "output_type": "display_data"
    },
    {
     "name": "stdout",
     "output_type": "stream",
     "text": [
      "Skewness: 1.729921\n",
      "Kurtosis: 2.339834\n"
     ]
    }
   ],
   "source": [
    "#exploring the usrcnt\n",
    "plt.scatter(range(df.shape[0]), np.sort(df['lwusercnt'].values))\n",
    "plt.xlabel('index')\n",
    "plt.ylabel('Usercnt')\n",
    "plt.title(\"User Count Distribution\")\n",
    "sns.despine()\n",
    "plt.show()\n",
    "\n",
    "sns.distplot(df['lwusercnt'])\n",
    "plt.title('Distribution of Usercount')\n",
    "sns.despine()\n",
    "plt.show()\n",
    "\n",
    "print(\"Skewness: %f\" % df['lwusercnt'].skew())\n",
    "print(\"Kurtosis: %f\" % df['lwusercnt'].kurt())"
   ]
  },
  {
   "cell_type": "markdown",
   "metadata": {},
   "source": [
    "## Using Isolation Forests\n",
    "\n",
    "Reason behind this is because we want something explainable to be able to use\n",
    "- isolation forests will allow us to get a specific number threshold\n",
    "- maybe will be good for this analysis"
   ]
  },
  {
   "cell_type": "code",
   "execution_count": 12,
   "metadata": {},
   "outputs": [
    {
     "name": "stderr",
     "output_type": "stream",
     "text": [
      "/Users/fzdanial/Anaconda/anaconda3/lib/python3.7/site-packages/sklearn/ensemble/iforest.py:415: DeprecationWarning: threshold_ attribute is deprecated in 0.20 and will be removed in 0.22.\n",
      "  \" be removed in 0.22.\", DeprecationWarning)\n"
     ]
    },
    {
     "data": {
      "image/png": "[encoded data removed]",
      "text/plain": [
       "<Figure size 1440x576 with 1 Axes>"
      ]
     },
     "metadata": {
      "needs_background": "light"
     },
     "output_type": "display_data"
    }
   ],
   "source": [
    "#gtv_user\n",
    "isolation_forest = IsolationForest(n_estimators=100)\n",
    "isolation_forest.fit(df['gtv_user'].values.reshape(-1, 1))\n",
    "\n",
    "xx = np.linspace(df['gtv_user'].min(), df['gtv_user'].max(), len(df)).reshape(-1,1)\n",
    "\n",
    "anomaly_score = isolation_forest.decision_function(xx)\n",
    "\n",
    "outlier = isolation_forest.predict(xx)\n",
    "\n",
    "plt.figure(figsize=(20,8))\n",
    "plt.plot(xx, anomaly_score, label='anomaly score')\n",
    "plt.fill_between(xx.T[0], np.min(anomaly_score), np.max(anomaly_score), \n",
    "                 where=outlier==-1, color='r', \n",
    "                 alpha=.4, label='outlier region')\n",
    "plt.legend()\n",
    "plt.ylabel('anomaly score')\n",
    "plt.xlabel('Gtv per User')\n",
    "plt.title('Anomaly score for GTV user')\n",
    "plt.show()"
   ]
  },
  {
   "cell_type": "code",
   "execution_count": 13,
   "metadata": {},
   "outputs": [
    {
     "name": "stderr",
     "output_type": "stream",
     "text": [
      "/Users/fzdanial/Anaconda/anaconda3/lib/python3.7/site-packages/sklearn/ensemble/iforest.py:415: DeprecationWarning: threshold_ attribute is deprecated in 0.20 and will be removed in 0.22.\n",
      "  \" be removed in 0.22.\", DeprecationWarning)\n"
     ]
    },
    {
     "data": {
      "image/png": "[encoded data removed]",
      "text/plain": [
       "<Figure size 1440x576 with 1 Axes>"
      ]
     },
     "metadata": {
      "needs_background": "light"
     },
     "output_type": "display_data"
    }
   ],
   "source": [
    "#lwgtv\n",
    "isolation_forest = IsolationForest(n_estimators=100)\n",
    "isolation_forest.fit(df['lwgtv'].values.reshape(-1, 1))\n",
    "\n",
    "xx = np.linspace(df['lwgtv'].min(), df['lwgtv'].max(), len(df)).reshape(-1,1)\n",
    "\n",
    "anomaly_score = isolation_forest.decision_function(xx)\n",
    "\n",
    "outlier = isolation_forest.predict(xx)\n",
    "\n",
    "plt.figure(figsize=(20,8))\n",
    "plt.plot(xx, anomaly_score, label='anomaly score')\n",
    "plt.fill_between(xx.T[0], np.min(anomaly_score), np.max(anomaly_score), \n",
    "                 where=outlier==-1, color='r', \n",
    "                 alpha=.4, label='outlier region')\n",
    "plt.legend()\n",
    "plt.ylabel('anomaly score')\n",
    "plt.xlabel('Weekly GTV')\n",
    "plt.title('Anomaly score for Weekly GTV')\n",
    "plt.show()"
   ]
  },
  {
   "cell_type": "code",
   "execution_count": 14,
   "metadata": {},
   "outputs": [
    {
     "name": "stderr",
     "output_type": "stream",
     "text": [
      "/Users/fzdanial/Anaconda/anaconda3/lib/python3.7/site-packages/sklearn/ensemble/iforest.py:415: DeprecationWarning: threshold_ attribute is deprecated in 0.20 and will be removed in 0.22.\n",
      "  \" be removed in 0.22.\", DeprecationWarning)\n"
     ]
    },
    {
     "data": {
      "image/png": "[encoded data removed]",
      "text/plain": [
       "<Figure size 1440x576 with 1 Axes>"
      ]
     },
     "metadata": {
      "needs_background": "light"
     },
     "output_type": "display_data"
    }
   ],
   "source": [
    "#user count\n",
    "isolation_forest = IsolationForest(n_estimators=100)\n",
    "isolation_forest.fit(df['lwusercnt'].values.reshape(-1, 1))\n",
    "\n",
    "xx = np.linspace(df['lwusercnt'].min(), df['lwusercnt'].max(), len(df)).reshape(-1,1)\n",
    "\n",
    "anomaly_score = isolation_forest.decision_function(xx)\n",
    "\n",
    "outlier = isolation_forest.predict(xx)\n",
    "\n",
    "plt.figure(figsize=(20,8))\n",
    "plt.plot(xx, anomaly_score, label='anomaly score')\n",
    "plt.fill_between(xx.T[0], np.min(anomaly_score), np.max(anomaly_score), \n",
    "                 where=outlier==-1, color='r', \n",
    "                 alpha=.4, label='outlier region')\n",
    "plt.legend()\n",
    "plt.ylabel('anomaly score')\n",
    "plt.xlabel('Weekly User count')\n",
    "plt.title('Anomaly score for Weekly User Count')\n",
    "plt.show()"
   ]
  },
  {
   "cell_type": "code",
   "execution_count": 15,
   "metadata": {},
   "outputs": [],
   "source": [
    "#df.loc[(df['gtv_user'] >= 2000.0)].sort_values(by = 'gtv_user')"
   ]
  },
  {
   "cell_type": "markdown",
   "metadata": {},
   "source": [
    "the only thing odd here is the ones above 3 thousand, but no direct correlation yet"
   ]
  },
  {
   "cell_type": "markdown",
   "metadata": {},
   "source": [
    "Ask LY/Anis to check out:\n",
    "- MCM0037662 on the week of 2021-11-01\n",
    "- MCM0079141 on the week of 2021-11-29\n",
    "- MCM0091886 on the week of 2021-10-25\n",
    "- MCM0065249 on the week of 2021-11-08"
   ]
  },
  {
   "cell_type": "markdown",
   "metadata": {},
   "source": [
    "## Multivariate anomaly analysis"
   ]
  },
  {
   "cell_type": "code",
   "execution_count": null,
   "metadata": {},
   "outputs": [],
   "source": [
    "sns.regplot(x=\"lwusercnt\", y=\"lwgtv\", data=df)\n",
    "sns.despine()"
   ]
  },
  {
   "cell_type": "code",
   "execution_count": null,
   "metadata": {},
   "outputs": [],
   "source": [
    "sns.regplot(x=\"gtv_user\", y=\"lwgtv\", data=df)\n",
    "sns.despine()"
   ]
  },
  {
   "cell_type": "code",
   "execution_count": null,
   "metadata": {},
   "outputs": [],
   "source": [
    "df['unix'] = (df['date'] - pd.Timestamp(\"1970-01-01\")) // pd.Timedelta('1s')\n",
    "\n",
    "sns.regplot(x=\"unix\", y=\"lwgtv\", data=df)\n",
    "sns.despine()"
   ]
  },
  {
   "cell_type": "markdown",
   "metadata": {},
   "source": [
    "### CBLOF"
   ]
  },
  {
   "cell_type": "code",
   "execution_count": null,
   "metadata": {},
   "outputs": [],
   "source": [
    "cols = ['lwusercnt', 'lwgtv']\n",
    "df[cols].head()"
   ]
  },
  {
   "cell_type": "code",
   "execution_count": null,
   "metadata": {},
   "outputs": [],
   "source": [
    "minmax = MinMaxScaler(feature_range=(0, 1))\n",
    "df[['lwusercnt','lwgtv']] = minmax.fit_transform(df[['lwusercnt','lwgtv']])\n",
    "df[['lwusercnt','lwgtv']].head()"
   ]
  },
  {
   "cell_type": "code",
   "execution_count": null,
   "metadata": {},
   "outputs": [],
   "source": [
    "X1 = df['lwusercnt'].values.reshape(-1,1)\n",
    "X2 = df['lwgtv'].values.reshape(-1,1)\n",
    "\n",
    "X = np.concatenate((X1,X2),axis=1)"
   ]
  },
  {
   "cell_type": "code",
   "execution_count": null,
   "metadata": {},
   "outputs": [],
   "source": [
    "outliers_fraction = 0.01\n",
    "xx , yy = np.meshgrid(np.linspace(0, 1, 100), np.linspace(0, 1, 100))\n",
    "clf = CBLOF(contamination=outliers_fraction,check_estimator=False, random_state=0)\n",
    "clf.fit(X)\n",
    "scores_pred = clf.decision_function(X) * -1\n",
    "y_pred = clf.predict(X)\n",
    "n_inliers = len(y_pred) - np.count_nonzero(y_pred)\n",
    "n_outliers = np.count_nonzero(y_pred == 1)\n",
    "\n",
    "plt.figure(figsize=(8, 8))\n",
    "\n",
    "df1 = df\n",
    "df1['outlier'] = y_pred.tolist()\n",
    "    \n",
    "# sales - inlier feature 1,  profit - inlier feature 2\n",
    "inliers_sales = np.array(df1['lwusercnt'][df1['outlier'] == 0]).reshape(-1,1)\n",
    "inliers_profit = np.array(df1['lwgtv'][df1['outlier'] == 0]).reshape(-1,1)\n",
    "    \n",
    "# sales - outlier feature 1, profit - outlier feature 2\n",
    "outliers_sales = df1['lwusercnt'][df1['outlier'] == 1].values.reshape(-1,1)\n",
    "outliers_profit = df1['lwgtv'][df1['outlier'] == 1].values.reshape(-1,1)\n",
    "         \n",
    "print('OUTLIERS:',n_outliers,'INLIERS:',n_inliers)\n",
    "threshold = percentile(scores_pred, 100 * outliers_fraction)        \n",
    "Z = clf.decision_function(np.c_[xx.ravel(), yy.ravel()]) * -1\n",
    "Z = Z.reshape(xx.shape)\n",
    "\n",
    "plt.contourf(xx, yy, Z, levels=np.linspace(Z.min(), threshold, 7),cmap=plt.cm.Blues_r)\n",
    "a = plt.contour(xx, yy, Z, levels=[threshold],linewidths=2, colors='red')\n",
    "plt.contourf(xx, yy, Z, levels=[threshold, Z.max()],colors='orange')\n",
    "b = plt.scatter(inliers_sales, inliers_profit, c='white',s=20, edgecolor='k')\n",
    "    \n",
    "c = plt.scatter(outliers_sales, outliers_profit, c='black',s=20, edgecolor='k')\n",
    "       \n",
    "plt.axis('tight')   \n",
    "plt.legend([a.collections[0], b,c], ['learned decision function', 'inliers','outliers'],\n",
    "           prop=matplotlib.font_manager.FontProperties(size=20),loc='lower right')      \n",
    "plt.xlim((0, 1))\n",
    "plt.ylim((0, 1))\n",
    "plt.title('Cluster-based Local Outlier Factor (CBLOF)')\n",
    "plt.show()"
   ]
  },
  {
   "cell_type": "markdown",
   "metadata": {},
   "source": [
    "### HBOS"
   ]
  },
  {
   "cell_type": "code",
   "execution_count": null,
   "metadata": {},
   "outputs": [],
   "source": [
    "outliers_fraction = 0.01\n",
    "xx , yy = np.meshgrid(np.linspace(0, 1, 100), np.linspace(0, 1, 100))\n",
    "clf = HBOS(contamination=outliers_fraction)\n",
    "clf.fit(X)\n",
    "# predict raw anomaly score\n",
    "scores_pred = clf.decision_function(X) * -1\n",
    "        \n",
    "# prediction of a datapoint category outlier or inlier\n",
    "y_pred = clf.predict(X)\n",
    "n_inliers = len(y_pred) - np.count_nonzero(y_pred)\n",
    "n_outliers = np.count_nonzero(y_pred == 1)\n",
    "plt.figure(figsize=(8, 8))\n",
    "# copy of dataframe\n",
    "df1 = df\n",
    "df1['outlier'] = y_pred.tolist()\n",
    "    \n",
    "# sales - inlier feature 1,  profit - inlier feature 2\n",
    "inliers_sales = np.array(df1['lwusercnt'][df1['outlier'] == 0]).reshape(-1,1)\n",
    "inliers_profit = np.array(df1['lwgtv'][df1['outlier'] == 0]).reshape(-1,1)\n",
    "    \n",
    "# sales - outlier feature 1, profit - outlier feature 2\n",
    "outliers_sales = df1['lwusercnt'][df1['outlier'] == 1].values.reshape(-1,1)\n",
    "outliers_profit = df1['lwgtv'][df1['outlier'] == 1].values.reshape(-1,1)\n",
    "         \n",
    "print('OUTLIERS:',n_outliers,'INLIERS:',n_inliers)\n",
    "        \n",
    "# threshold value to consider a datapoint inlier or outlier\n",
    "threshold = percentile(scores_pred, 100 * outliers_fraction)\n",
    "        \n",
    "# decision function calculates the raw anomaly score for every point\n",
    "Z = clf.decision_function(np.c_[xx.ravel(), yy.ravel()]) * -1\n",
    "Z = Z.reshape(xx.shape)\n",
    "# fill blue map colormap from minimum anomaly score to threshold value\n",
    "plt.contourf(xx, yy, Z, levels=np.linspace(Z.min(), threshold, 7),cmap=plt.cm.Blues_r)\n",
    "        \n",
    "# draw red contour line where anomaly score is equal to thresold\n",
    "a = plt.contour(xx, yy, Z, levels=[threshold],linewidths=2, colors='red')\n",
    "        \n",
    "# fill orange contour lines where range of anomaly score is from threshold to maximum anomaly score\n",
    "plt.contourf(xx, yy, Z, levels=[threshold, Z.max()],colors='orange')\n",
    "b = plt.scatter(inliers_sales, inliers_profit, c='white',s=20, edgecolor='k')\n",
    "    \n",
    "c = plt.scatter(outliers_sales, outliers_profit, c='black',s=20, edgecolor='k')\n",
    "       \n",
    "plt.axis('tight')  \n",
    "     \n",
    "plt.legend([a.collections[0], b,c], ['learned decision function', 'inliers','outliers'],\n",
    "           prop=matplotlib.font_manager.FontProperties(size=20),loc='lower right')\n",
    "      \n",
    "plt.xlim((0, 1))\n",
    "plt.ylim((0, 1))\n",
    "plt.title('Histogram-base Outlier Detection (HBOS)')\n",
    "plt.show()"
   ]
  },
  {
   "cell_type": "markdown",
   "metadata": {},
   "source": [
    "### Isolation Forest"
   ]
  },
  {
   "cell_type": "code",
   "execution_count": null,
   "metadata": {},
   "outputs": [],
   "source": [
    "outliers_fraction = 0.01\n",
    "xx , yy = np.meshgrid(np.linspace(0, 1, 100), np.linspace(0, 1, 100))\n",
    "clf = IForest(contamination=outliers_fraction,random_state=0)\n",
    "clf.fit(X)\n",
    "# predict raw anomaly score\n",
    "scores_pred = clf.decision_function(X) * -1\n",
    "        \n",
    "# prediction of a datapoint category outlier or inlier\n",
    "y_pred = clf.predict(X)\n",
    "n_inliers = len(y_pred) - np.count_nonzero(y_pred)\n",
    "n_outliers = np.count_nonzero(y_pred == 1)\n",
    "plt.figure(figsize=(8, 8))\n",
    "# copy of dataframe\n",
    "df1 = df\n",
    "df1['outlier'] = y_pred.tolist()\n",
    "    \n",
    "# sales - inlier feature 1,  profit - inlier feature 2\n",
    "inliers_sales = np.array(df1['lwusercnt'][df1['outlier'] == 0]).reshape(-1,1)\n",
    "inliers_profit = np.array(df1['lwgtv'][df1['outlier'] == 0]).reshape(-1,1)\n",
    "    \n",
    "# sales - outlier feature 1, profit - outlier feature 2\n",
    "outliers_sales = df1['lwusercnt'][df1['outlier'] == 1].values.reshape(-1,1)\n",
    "outliers_profit = df1['lwgtv'][df1['outlier'] == 1].values.reshape(-1,1)\n",
    "         \n",
    "print('OUTLIERS: ',n_outliers,'INLIERS: ',n_inliers)\n",
    "        \n",
    "# threshold value to consider a datapoint inlier or outlier\n",
    "threshold = percentile(scores_pred, 100 * outliers_fraction)\n",
    "        \n",
    "# decision function calculates the raw anomaly score for every point\n",
    "Z = clf.decision_function(np.c_[xx.ravel(), yy.ravel()]) * -1\n",
    "Z = Z.reshape(xx.shape)\n",
    "# fill blue map colormap from minimum anomaly score to threshold value\n",
    "plt.contourf(xx, yy, Z, levels=np.linspace(Z.min(), threshold, 7),cmap=plt.cm.Blues_r)\n",
    "        \n",
    "# draw red contour line where anomaly score is equal to thresold\n",
    "a = plt.contour(xx, yy, Z, levels=[threshold],linewidths=2, colors='red')\n",
    "        \n",
    "# fill orange contour lines where range of anomaly score is from threshold to maximum anomaly score\n",
    "plt.contourf(xx, yy, Z, levels=[threshold, Z.max()],colors='orange')\n",
    "b = plt.scatter(inliers_sales, inliers_profit, c='white',s=20, edgecolor='k')\n",
    "    \n",
    "c = plt.scatter(outliers_sales, outliers_profit, c='black',s=20, edgecolor='k')\n",
    "       \n",
    "plt.axis('tight')\n",
    "plt.legend([a.collections[0], b,c], ['learned decision function', 'inliers','outliers'],\n",
    "           prop=matplotlib.font_manager.FontProperties(size=20),loc='lower right')\n",
    "      \n",
    "plt.xlim((0, 1))\n",
    "plt.ylim((0, 1))\n",
    "plt.title('Isolation Forest')\n",
    "plt.show()"
   ]
  },
  {
   "cell_type": "markdown",
   "metadata": {},
   "source": [
    "### KNN"
   ]
  },
  {
   "cell_type": "code",
   "execution_count": null,
   "metadata": {
    "scrolled": false
   },
   "outputs": [],
   "source": [
    "outliers_fraction = 0.01\n",
    "xx , yy = np.meshgrid(np.linspace(0, 1, 100), np.linspace(0, 1, 100))\n",
    "clf = KNN(contamination=outliers_fraction)\n",
    "clf.fit(X)\n",
    "# predict raw anomaly score\n",
    "scores_pred = clf.decision_function(X) * -1\n",
    "        \n",
    "# prediction of a datapoint category outlier or inlier\n",
    "y_pred = clf.predict(X)\n",
    "n_inliers = len(y_pred) - np.count_nonzero(y_pred)\n",
    "n_outliers = np.count_nonzero(y_pred == 1)\n",
    "plt.figure(figsize=(8, 8))\n",
    "# copy of dataframe\n",
    "df1 = df\n",
    "df1['outlier'] = y_pred.tolist()\n",
    "    \n",
    "# sales - inlier feature 1,  profit - inlier feature 2\n",
    "inliers_sales = np.array(df1['lwusercnt'][df1['outlier'] == 0]).reshape(-1,1)\n",
    "inliers_profit = np.array(df1['lwgtv'][df1['outlier'] == 0]).reshape(-1,1)\n",
    "    \n",
    "# sales - outlier feature 1, profit - outlier feature 2\n",
    "outliers_sales = df1['lwusercnt'][df1['outlier'] == 1].values.reshape(-1,1)\n",
    "outliers_profit = df1['lwgtv'][df1['outlier'] == 1].values.reshape(-1,1)\n",
    "         \n",
    "print('OUTLIERS: ',n_outliers,'INLIERS: ',n_inliers)\n",
    "        \n",
    "# threshold value to consider a datapoint inlier or outlier\n",
    "threshold = percentile(scores_pred, 100 * outliers_fraction)\n",
    "        \n",
    "# decision function calculates the raw anomaly score for every point\n",
    "Z = clf.decision_function(np.c_[xx.ravel(), yy.ravel()]) * -1\n",
    "Z = Z.reshape(xx.shape)\n",
    "# fill blue map colormap from minimum anomaly score to threshold value\n",
    "plt.figure(figsize=(15,8))\n",
    "plt.contourf(xx, yy, Z, levels=np.linspace(Z.min(), threshold, 7),cmap=plt.cm.Blues_r)\n",
    "        \n",
    "# draw red contour line where anomaly score is equal to thresold\n",
    "a = plt.contour(xx, yy, Z, levels=[threshold],linewidths=2, colors='red')\n",
    "        \n",
    "# fill orange contour lines where range of anomaly score is from threshold to maximum anomaly score\n",
    "plt.contourf(xx, yy, Z, levels=[threshold, Z.max()],colors='orange')\n",
    "b = plt.scatter(inliers_sales, inliers_profit, c='white',s=20, edgecolor='k')\n",
    "    \n",
    "c = plt.scatter(outliers_sales, outliers_profit, c='black',s=20, edgecolor='k')\n",
    "\n",
    "\n",
    "\n",
    "plt.axis('tight')  \n",
    "   \n",
    "plt.legend([a.collections[0], b,c], ['learned decision function', 'inliers','outliers'],\n",
    "           prop=matplotlib.font_manager.FontProperties(size=20),loc='lower right')\n",
    "      \n",
    "plt.xlim((0, 1))\n",
    "plt.ylim((0, 1))\n",
    "plt.title('K Nearest Neighbors (KNN)')\n",
    "plt.show()"
   ]
  },
  {
   "cell_type": "markdown",
   "metadata": {},
   "source": [
    "cannot use KNN bcs the groupings are very odd"
   ]
  },
  {
   "cell_type": "markdown",
   "metadata": {},
   "source": [
    "## Manual investigation - use HBOF"
   ]
  },
  {
   "cell_type": "code",
   "execution_count": null,
   "metadata": {},
   "outputs": [],
   "source": [
    "#df1.loc[df1['outlier'] == 1].sort_values(by = 'gtv_user', ascending = False)"
   ]
  },
  {
   "cell_type": "code",
   "execution_count": null,
   "metadata": {},
   "outputs": [],
   "source": [
    "df1.loc[df1['outlier'] == 1].count()"
   ]
  },
  {
   "cell_type": "markdown",
   "metadata": {},
   "source": [
    "## Univariate Anomaly Detection\n",
    "\n",
    "We shall expand on this investigation by using univariate analysis, as the outlier factor before, doesnt really show much\n",
    "\n",
    "We first look at the Z score of each"
   ]
  },
  {
   "cell_type": "code",
   "execution_count": null,
   "metadata": {},
   "outputs": [],
   "source": [
    "df['gtv_user_z'] = (df[\"gtv_user\"] - df[\"gtv_user\"].mean())/df[\"gtv_user\"].std()"
   ]
  },
  {
   "cell_type": "code",
   "execution_count": null,
   "metadata": {},
   "outputs": [],
   "source": [
    "#df.loc[df['gtv_user_z'] >= 10].sort_values(by = 'gtv_user', ascending = False)"
   ]
  },
  {
   "cell_type": "markdown",
   "metadata": {},
   "source": [
    "From the Z scores, can see that the z score jumps and gets extremely high at the point of rm4000 weekly gtv/user\n",
    "\n",
    "We shall take a look with boxplots"
   ]
  },
  {
   "cell_type": "code",
   "execution_count": null,
   "metadata": {},
   "outputs": [],
   "source": [
    "#create the boxplot\n",
    "ax = sns.boxplot(x = df[\"gtv_user\"])\n",
    "#add labels to the plot\n",
    "ax.set_xlabel(\"gtv_user\", fontsize = 15)\n",
    "ax.set_ylabel(\"Variable\", fontsize = 15)\n",
    "ax.set_title(\"GTV/User boxplot\", fontsize =20, pad = 20)\n",
    "plt.show()"
   ]
  },
  {
   "cell_type": "markdown",
   "metadata": {},
   "source": [
    "At the rm3k mark, there is a significant jump, this is further proof that its odd behavior"
   ]
  },
  {
   "cell_type": "markdown",
   "metadata": {},
   "source": [
    "We try and look at K means Clustering to see if there are any other indicators of the RM3k "
   ]
  },
  {
   "cell_type": "code",
   "execution_count": null,
   "metadata": {},
   "outputs": [],
   "source": [
    "#convert the gtv_user values to a float to be able to use numpy \n",
    "gtvuser_raw = df[\"gtv_user\"].values.astype(\"float\")\n",
    "\n",
    "#use the kmeans function from scipy\n",
    "centroids, avg_distance = kmeans(gtvuser_raw, 4)\n",
    "\n",
    "#extract the groups from the data\n",
    "groups, cdit = vq(gtvuser_raw, centroids)\n",
    "\n",
    "#plot the results\n",
    "#assign groups back to the dataframe\n",
    "df[\"gtvuser_groups\"] = groups\n",
    "#plot the scatter plot\n",
    "fig = px.scatter(df, x = \"gtv_user\", y = df.index,\n",
    "                color = \"gtvuser_groups\",\n",
    "                hover_name = \"merchantname\")\n",
    "#add a title\n",
    "fig.update_layout(title = \"K-Means outlier detection\",\n",
    "                 title_x = 0.5)\n",
    "#show the plot\n",
    "fig.show()"
   ]
  },
  {
   "cell_type": "code",
   "execution_count": null,
   "metadata": {},
   "outputs": [],
   "source": []
  }
 ],
 "metadata": {
  "kernelspec": {
   "display_name": "Python 3",
   "language": "python",
   "name": "python3"
  },
  "language_info": {
   "codemirror_mode": {
    "name": "ipython",
    "version": 3
   },
   "file_extension": ".py",
   "mimetype": "text/x-python",
   "name": "python",
   "nbconvert_exporter": "python",
   "pygments_lexer": "ipython3",
   "version": "3.7.4"
  }
 },
 "nbformat": 4,
 "nbformat_minor": 5
}
